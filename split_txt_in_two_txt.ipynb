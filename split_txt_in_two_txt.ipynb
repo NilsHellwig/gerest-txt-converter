{
 "cells": [
  {
   "cell_type": "code",
   "execution_count": 3,
   "metadata": {},
   "outputs": [
    {
     "name": "stdout",
     "output_type": "stream",
     "text": [
      "Train-Datei mit 1264 Zeilen und Dev-Datei mit 316 Zeilen erstellt.\n"
     ]
    }
   ],
   "source": [
    "import random\n",
    "\n",
    "# Seed für reproduzierbare Ergebnisse setzen\n",
    "random.seed(42)  # Ersetze 42 durch eine beliebige Zahl deiner Wahl\n",
    "\n",
    "# Datei einlesen\n",
    "input_file = 'gerest/train_dev.txt'\n",
    "train_file = 'gerest/train.txt'\n",
    "dev_file = 'gerest/dev.txt'\n",
    "\n",
    "train_size = 1264\n",
    "dev_size = 316\n",
    "\n",
    "with open(input_file, 'r', encoding='utf-8') as f:\n",
    "    lines = f.readlines()\n",
    "\n",
    "# Sicherstellen, dass genügend Beispiele vorhanden sind\n",
    "if len(lines) < train_size + dev_size:\n",
    "    raise ValueError(f\"Die Datei enthält nur {len(lines)} Zeilen, benötigt werden mindestens {train_size + dev_size}.\")\n",
    "\n",
    "random.shuffle(lines)\n",
    "\n",
    "train_lines = lines[:train_size]\n",
    "dev_lines = lines[train_size:train_size + dev_size]\n",
    "\n",
    "# Train- und Dev-Dateien schreiben\n",
    "with open(train_file, 'w', encoding='utf-8') as f:\n",
    "    f.writelines(train_lines)\n",
    "\n",
    "with open(dev_file, 'w', encoding='utf-8') as f:\n",
    "    f.writelines(dev_lines)\n",
    "\n",
    "print(f\"Train-Datei mit {train_size} Zeilen und Dev-Datei mit {dev_size} Zeilen erstellt.\")\n"
   ]
  }
 ],
 "metadata": {
  "kernelspec": {
   "display_name": "tensorflow_m1",
   "language": "python",
   "name": "python3"
  },
  "language_info": {
   "codemirror_mode": {
    "name": "ipython",
    "version": 3
   },
   "file_extension": ".py",
   "mimetype": "text/x-python",
   "name": "python",
   "nbconvert_exporter": "python",
   "pygments_lexer": "ipython3",
   "version": "3.11.3"
  }
 },
 "nbformat": 4,
 "nbformat_minor": 2
}
